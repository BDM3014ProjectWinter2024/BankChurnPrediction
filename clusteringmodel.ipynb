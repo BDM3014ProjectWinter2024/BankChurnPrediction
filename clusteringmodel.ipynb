{
 "cells": [
  {
   "cell_type": "code",
   "execution_count": 2,
   "metadata": {},
   "outputs": [],
   "source": [
    "# Uncomment below if you want to run this file only\n",
    "%run main.ipynb\n",
    "#%run data_cleaning.ipynb\n",
    "#%run data_visualization.ipynb\n",
    "#%run feature_engineering.ipynb"
   ]
  },
  {
   "cell_type": "code",
   "execution_count": 3,
   "metadata": {},
   "outputs": [],
   "source": [
    "# Read the CSV From FEATURE ENGINEERING data source file from S3 into a DataFrame\n",
    "# Use the methods from the S3Utils class\n",
    "if s3_utils.check_file_exists(output_file_key_data_feature_engineering):\n",
    "    dataset = s3_utils.read_csv_from_s3(output_file_key_data_feature_engineering)"
   ]
  },
  {
   "cell_type": "code",
   "execution_count": 16,
   "metadata": {},
   "outputs": [],
   "source": [
    "from sklearn.cluster import KMeans\n",
    "from sklearn.cluster import Birch\n",
    "from sklearn.linear_model import SGDClassifier\n",
    "from sklearn.ensemble import AdaBoostClassifier\n",
    "\n"
   ]
  },
  {
   "cell_type": "code",
   "execution_count": 9,
   "metadata": {},
   "outputs": [
    {
     "data": {
      "text/html": [
       "<div>\n",
       "<style scoped>\n",
       "    .dataframe tbody tr th:only-of-type {\n",
       "        vertical-align: middle;\n",
       "    }\n",
       "\n",
       "    .dataframe tbody tr th {\n",
       "        vertical-align: top;\n",
       "    }\n",
       "\n",
       "    .dataframe thead th {\n",
       "        text-align: right;\n",
       "    }\n",
       "</style>\n",
       "<table border=\"1\" class=\"dataframe\">\n",
       "  <thead>\n",
       "    <tr style=\"text-align: right;\">\n",
       "      <th></th>\n",
       "      <th>id</th>\n",
       "      <th>amount_rub_clo_prc</th>\n",
       "      <th>amount_rub_sup_prc</th>\n",
       "      <th>rest_dynamic_save_3m</th>\n",
       "      <th>rest_avg_cur</th>\n",
       "      <th>amount_rub_nas_prc</th>\n",
       "      <th>amount_rub_atm_prc</th>\n",
       "      <th>rest_dynamic_fdep_3m</th>\n",
       "      <th>rest_avg_paym</th>\n",
       "      <th>ldeal_grace_days_pct_med</th>\n",
       "      <th>rest_dynamic_cur_3m</th>\n",
       "      <th>rest_dynamic_paym_3m</th>\n",
       "      <th>rest_dynamic_il_3m</th>\n",
       "      <th>rest_dynamic_cc_3m</th>\n",
       "      <th>target</th>\n",
       "      <th>pack_encoded</th>\n",
       "      <th>number_products</th>\n",
       "      <th>new_age_category_numeric</th>\n",
       "      <th>new_setup_tenor</th>\n",
       "      <th>total_turnover_category</th>\n",
       "      <th>total_turnover_1m_category</th>\n",
       "      <th>total_turnover_3m_category</th>\n",
       "    </tr>\n",
       "  </thead>\n",
       "  <tbody>\n",
       "    <tr>\n",
       "      <th>0</th>\n",
       "      <td>146841</td>\n",
       "      <td>0.000000</td>\n",
       "      <td>0.000000</td>\n",
       "      <td>0.541683</td>\n",
       "      <td>156067.339800</td>\n",
       "      <td>0.0</td>\n",
       "      <td>1.000000</td>\n",
       "      <td>0.0</td>\n",
       "      <td>0.0</td>\n",
       "      <td>0.0</td>\n",
       "      <td>0.474134</td>\n",
       "      <td>0.0</td>\n",
       "      <td>0.0</td>\n",
       "      <td>0.0</td>\n",
       "      <td>0</td>\n",
       "      <td>9</td>\n",
       "      <td>0</td>\n",
       "      <td>1</td>\n",
       "      <td>0.347569</td>\n",
       "      <td>0</td>\n",
       "      <td>2</td>\n",
       "      <td>2</td>\n",
       "    </tr>\n",
       "    <tr>\n",
       "      <th>1</th>\n",
       "      <td>146842</td>\n",
       "      <td>0.041033</td>\n",
       "      <td>0.244678</td>\n",
       "      <td>0.000000</td>\n",
       "      <td>4278.845817</td>\n",
       "      <td>0.0</td>\n",
       "      <td>0.410691</td>\n",
       "      <td>0.0</td>\n",
       "      <td>0.0</td>\n",
       "      <td>0.0</td>\n",
       "      <td>0.384264</td>\n",
       "      <td>0.0</td>\n",
       "      <td>0.0</td>\n",
       "      <td>0.0</td>\n",
       "      <td>0</td>\n",
       "      <td>1</td>\n",
       "      <td>0</td>\n",
       "      <td>1</td>\n",
       "      <td>0.414169</td>\n",
       "      <td>0</td>\n",
       "      <td>2</td>\n",
       "      <td>2</td>\n",
       "    </tr>\n",
       "  </tbody>\n",
       "</table>\n",
       "</div>"
      ],
      "text/plain": [
       "       id  amount_rub_clo_prc  amount_rub_sup_prc  rest_dynamic_save_3m  \\\n",
       "0  146841            0.000000            0.000000              0.541683   \n",
       "1  146842            0.041033            0.244678              0.000000   \n",
       "\n",
       "    rest_avg_cur  amount_rub_nas_prc  amount_rub_atm_prc  \\\n",
       "0  156067.339800                 0.0            1.000000   \n",
       "1    4278.845817                 0.0            0.410691   \n",
       "\n",
       "   rest_dynamic_fdep_3m  rest_avg_paym  ldeal_grace_days_pct_med  \\\n",
       "0                   0.0            0.0                       0.0   \n",
       "1                   0.0            0.0                       0.0   \n",
       "\n",
       "   rest_dynamic_cur_3m  rest_dynamic_paym_3m  rest_dynamic_il_3m  \\\n",
       "0             0.474134                   0.0                 0.0   \n",
       "1             0.384264                   0.0                 0.0   \n",
       "\n",
       "   rest_dynamic_cc_3m  target  pack_encoded  number_products  \\\n",
       "0                 0.0       0             9                0   \n",
       "1                 0.0       0             1                0   \n",
       "\n",
       "   new_age_category_numeric  new_setup_tenor  total_turnover_category  \\\n",
       "0                         1         0.347569                        0   \n",
       "1                         1         0.414169                        0   \n",
       "\n",
       "   total_turnover_1m_category  total_turnover_3m_category  \n",
       "0                           2                           2  \n",
       "1                           2                           2  "
      ]
     },
     "execution_count": 9,
     "metadata": {},
     "output_type": "execute_result"
    }
   ],
   "source": [
    "dataset.head(2)"
   ]
  },
  {
   "cell_type": "code",
   "execution_count": 20,
   "metadata": {},
   "outputs": [
    {
     "data": {
      "text/plain": [
       "id                                0\n",
       "amount_rub_clo_prc            38323\n",
       "amount_rub_sup_prc            38323\n",
       "rest_dynamic_save_3m              0\n",
       "rest_avg_cur                      0\n",
       "amount_rub_nas_prc            38323\n",
       "amount_rub_atm_prc            38323\n",
       "rest_dynamic_fdep_3m              0\n",
       "rest_avg_paym                     0\n",
       "ldeal_grace_days_pct_med          0\n",
       "rest_dynamic_cur_3m               0\n",
       "rest_dynamic_paym_3m              0\n",
       "rest_dynamic_il_3m                0\n",
       "rest_dynamic_cc_3m                0\n",
       "target                            0\n",
       "pack_encoded                      0\n",
       "number_products                   0\n",
       "new_age_category_numeric          0\n",
       "new_setup_tenor                   0\n",
       "total_turnover_category           0\n",
       "total_turnover_1m_category        0\n",
       "total_turnover_3m_category        0\n",
       "dtype: int64"
      ]
     },
     "execution_count": 20,
     "metadata": {},
     "output_type": "execute_result"
    }
   ],
   "source": [
    "dataset.isnull().sum()"
   ]
  },
  {
   "cell_type": "code",
   "execution_count": 21,
   "metadata": {},
   "outputs": [],
   "source": [
    "# Columns with missing values\n",
    "cols_with_missing = ['amount_rub_clo_prc', 'amount_rub_sup_prc', \n",
    "                     'amount_rub_nas_prc', 'amount_rub_atm_prc']\n",
    "\n",
    "# Impute missing values with mean\n",
    "for col in cols_with_missing:\n",
    "    dataset[col] = dataset[col].fillna(dataset[col].mean())"
   ]
  },
  {
   "cell_type": "code",
   "execution_count": 23,
   "metadata": {},
   "outputs": [],
   "source": [
    "# Split the dataset into features (X) and target variable (y)\n",
    "from sklearn.model_selection import train_test_split\n",
    "\n",
    "X = dataset.drop(columns=['target'])\n",
    "y = dataset['target']\n",
    "\n",
    "X_train, X_test, y_train, y_test = train_test_split(X, y, test_size=0.2, random_state=42)"
   ]
  },
  {
   "cell_type": "markdown",
   "metadata": {},
   "source": [
    "### Clustering Algorithm #1: K-Means"
   ]
  },
  {
   "cell_type": "code",
   "execution_count": 24,
   "metadata": {},
   "outputs": [
    {
     "ename": "NameError",
     "evalue": "name 'silhouette_score' is not defined",
     "output_type": "error",
     "traceback": [
      "\u001b[1;31m---------------------------------------------------------------------------\u001b[0m",
      "\u001b[1;31mNameError\u001b[0m                                 Traceback (most recent call last)",
      "Cell \u001b[1;32mIn[24], line 13\u001b[0m\n\u001b[0;32m     11\u001b[0m   cluster_labels \u001b[38;5;241m=\u001b[39m kmeans\u001b[38;5;241m.\u001b[39mlabels_\n\u001b[0;32m     12\u001b[0m \u001b[38;5;66;03m# silhouette score\u001b[39;00m\n\u001b[1;32m---> 13\u001b[0m   silhouette_avg\u001b[38;5;241m.\u001b[39mappend(\u001b[43msilhouette_score\u001b[49m(clust_alg_1, cluster_labels))\n\u001b[0;32m     14\u001b[0m \u001b[38;5;66;03m# Plot silhouette analysis\u001b[39;00m\n\u001b[0;32m     15\u001b[0m plt\u001b[38;5;241m.\u001b[39mplot(range_n_clusters,silhouette_avg,\u001b[38;5;124m'\u001b[39m\u001b[38;5;124mbx-\u001b[39m\u001b[38;5;124m'\u001b[39m)\n",
      "\u001b[1;31mNameError\u001b[0m: name 'silhouette_score' is not defined"
     ]
    }
   ],
   "source": [
    "# Calculate the silhouette score to choose the best number of clusters for our model\n",
    "\n",
    "clust_alg_1=dataset.copy()\n",
    "\n",
    "range_n_clusters = [2, 3, 4, 5, 6, 7, 8]\n",
    "silhouette_avg = []\n",
    "for num_clusters in range_n_clusters:\n",
    "  # initialise kmeans\n",
    "  kmeans = KMeans(n_clusters=num_clusters)\n",
    "  kmeans.fit(clust_alg_1)\n",
    "  cluster_labels = kmeans.labels_\n",
    "# silhouette score\n",
    "  silhouette_avg.append(silhouette_score(clust_alg_1, cluster_labels))\n",
    "# Plot silhouette analysis\n",
    "plt.plot(range_n_clusters,silhouette_avg,'bx-')\n",
    "plt.xlabel('Values of K')\n",
    "plt.ylabel('Silhouette score')\n",
    "plt.title('Silhouette analysis For Optimal k')\n",
    "plt.show()"
   ]
  },
  {
   "cell_type": "code",
   "execution_count": null,
   "metadata": {},
   "outputs": [],
   "source": []
  }
 ],
 "metadata": {
  "kernelspec": {
   "display_name": "Python 3",
   "language": "python",
   "name": "python3"
  },
  "language_info": {
   "codemirror_mode": {
    "name": "ipython",
    "version": 3
   },
   "file_extension": ".py",
   "mimetype": "text/x-python",
   "name": "python",
   "nbconvert_exporter": "python",
   "pygments_lexer": "ipython3",
   "version": "3.11.3"
  }
 },
 "nbformat": 4,
 "nbformat_minor": 2
}
