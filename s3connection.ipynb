{
 "cells": [
  {
   "cell_type": "code",
   "execution_count": 1,
   "metadata": {},
   "outputs": [],
   "source": [
    "import pandas as pd\n",
    "import boto3\n",
    "from io import StringIO"
   ]
  },
  {
   "cell_type": "code",
   "execution_count": 2,
   "metadata": {},
   "outputs": [],
   "source": [
    "# AWS credentials\n",
    "aws_access_key_id = '' #ask prescila for values here .. DO NOT UPLOAD TO GIT with values here\n",
    "aws_secret_access_key = '' #ask prescila for values here.. DO NOT UPLOAD TO GIT with values here\n",
    "bucket_name = '' #ask prescila for values here.. DO NOT UPLOAD TO GIT with values here\n",
    "input_file_key = 'SourceDataSet/bank_data_train.csv'\n",
    "output_file_key = 'TargetDataSet/clean_bankchurn.csv'\n"
   ]
  },
  {
   "cell_type": "code",
   "execution_count": 3,
   "metadata": {},
   "outputs": [],
   "source": [
    "# Create an S3 client\n",
    "s3_client = boto3.client('s3', aws_access_key_id=aws_access_key_id, aws_secret_access_key=aws_secret_access_key)\n"
   ]
  },
  {
   "cell_type": "code",
   "execution_count": 4,
   "metadata": {},
   "outputs": [],
   "source": [
    "# Read the CSV file from S3 into a DataFrame\n",
    "obj = s3_client.get_object(Bucket=bucket_name, Key=input_file_key)\n",
    "df = pd.read_csv(obj['Body'])"
   ]
  },
  {
   "cell_type": "code",
   "execution_count": 5,
   "metadata": {},
   "outputs": [],
   "source": [
    "# Extract the first two rows of the DataFrame\n",
    "df_head = df.head(2)"
   ]
  },
  {
   "cell_type": "code",
   "execution_count": 6,
   "metadata": {},
   "outputs": [],
   "source": [
    "# Convert the DataFrame to a CSV string\n",
    "csv_buffer = StringIO()\n",
    "df_head.to_csv(csv_buffer, index=False)\n"
   ]
  },
  {
   "cell_type": "code",
   "execution_count": 7,
   "metadata": {},
   "outputs": [
    {
     "data": {
      "text/plain": [
       "{'ResponseMetadata': {'RequestId': 'FFH5930DKWT5GYK9',\n",
       "  'HostId': 'Ur3mF71nBzfp5FZQMsYYEfzs3c4FKGw39i+E02aIpE71HoHOJ402MBwcThsO3qe75etrstpvoyo=',\n",
       "  'HTTPStatusCode': 200,\n",
       "  'HTTPHeaders': {'x-amz-id-2': 'Ur3mF71nBzfp5FZQMsYYEfzs3c4FKGw39i+E02aIpE71HoHOJ402MBwcThsO3qe75etrstpvoyo=',\n",
       "   'x-amz-request-id': 'FFH5930DKWT5GYK9',\n",
       "   'date': 'Sun, 17 Mar 2024 13:27:00 GMT',\n",
       "   'x-amz-server-side-encryption': 'AES256',\n",
       "   'etag': '\"bc2149a6ea810326f70dac6f99db3627\"',\n",
       "   'server': 'AmazonS3',\n",
       "   'content-length': '0'},\n",
       "  'RetryAttempts': 0},\n",
       " 'ETag': '\"bc2149a6ea810326f70dac6f99db3627\"',\n",
       " 'ServerSideEncryption': 'AES256'}"
      ]
     },
     "execution_count": 7,
     "metadata": {},
     "output_type": "execute_result"
    }
   ],
   "source": [
    "\n",
    "# Upload the new CSV to the desired folder in the S3 bucket\n",
    "s3_client.put_object(Bucket=bucket_name, Key=output_file_key, Body=csv_buffer.getvalue())"
   ]
  }
 ],
 "metadata": {
  "kernelspec": {
   "display_name": "Python 3",
   "language": "python",
   "name": "python3"
  },
  "language_info": {
   "codemirror_mode": {
    "name": "ipython",
    "version": 3
   },
   "file_extension": ".py",
   "mimetype": "text/x-python",
   "name": "python",
   "nbconvert_exporter": "python",
   "pygments_lexer": "ipython3",
   "version": "3.11.3"
  }
 },
 "nbformat": 4,
 "nbformat_minor": 2
}
