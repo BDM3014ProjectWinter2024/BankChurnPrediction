{
 "cells": [
  {
   "cell_type": "code",
   "execution_count": 1,
   "metadata": {},
   "outputs": [],
   "source": [
    "import pandas as pd\n",
    "import boto3\n",
    "from io import StringIO"
   ]
  },
  {
   "cell_type": "code",
   "execution_count": 2,
   "metadata": {},
   "outputs": [],
   "source": [
    "# AWS credentials\n",
    "# Download the credentials in teams and save in your local machine, update the path as needed\n",
    "file_path = 'C:/churn/bucketcredentials.csv'\n",
    "credentials_df = pd.read_csv(file_path)\n",
    "\n",
    "aws_access_key_id = credentials_df['aws_access_key_id'].iloc[0]\n",
    "aws_secret_access_key = credentials_df['aws_secret_access_key'].iloc[0]\n",
    "bucket_name = credentials_df['bucket_name'].iloc[0]\n",
    "\n",
    "# for testing purposes you can change the path so you will not overwrite others output file\n",
    "target_subfolder = \"prescila\" # change this accordingly\n",
    "\n",
    "input_file_key = 'SourceDataSet/bank_data_train.csv'\n",
    "output_file_key = f\"TargetDataSet/{target_subfolder}/bank_data_test.csv\""
   ]
  },
  {
   "cell_type": "code",
   "execution_count": 3,
   "metadata": {},
   "outputs": [],
   "source": [
    "# Create an S3 client\n",
    "s3_client = boto3.client('s3', aws_access_key_id=aws_access_key_id, aws_secret_access_key=aws_secret_access_key)\n"
   ]
  },
  {
   "cell_type": "code",
   "execution_count": 4,
   "metadata": {},
   "outputs": [],
   "source": [
    "# Read the CSV file from S3 into a DataFrame\n",
    "obj = s3_client.get_object(Bucket=bucket_name, Key=input_file_key)\n",
    "df = pd.read_csv(obj['Body'])"
   ]
  },
  {
   "cell_type": "code",
   "execution_count": 5,
   "metadata": {},
   "outputs": [],
   "source": [
    "# Extract the first two rows of the DataFrame\n",
    "df_head = df.head(2)"
   ]
  },
  {
   "cell_type": "code",
   "execution_count": 6,
   "metadata": {},
   "outputs": [],
   "source": [
    "# Convert the DataFrame to a CSV string\n",
    "csv_buffer = StringIO()\n",
    "df_head.to_csv(csv_buffer, index=False)\n"
   ]
  },
  {
   "cell_type": "code",
   "execution_count": 7,
   "metadata": {},
   "outputs": [
    {
     "data": {
      "text/plain": [
       "{'ResponseMetadata': {'RequestId': 'TDF0YXNZN4827FET',\n",
       "  'HostId': 'tb9sXffWGsitTWlhrGOihSIj7stNvhBAeXQj1iyuAEBEdAc4dgel87iXKWdyGe3JRqPntyuQ/4E=',\n",
       "  'HTTPStatusCode': 200,\n",
       "  'HTTPHeaders': {'x-amz-id-2': 'tb9sXffWGsitTWlhrGOihSIj7stNvhBAeXQj1iyuAEBEdAc4dgel87iXKWdyGe3JRqPntyuQ/4E=',\n",
       "   'x-amz-request-id': 'TDF0YXNZN4827FET',\n",
       "   'date': 'Tue, 19 Mar 2024 02:56:39 GMT',\n",
       "   'x-amz-server-side-encryption': 'AES256',\n",
       "   'etag': '\"bc2149a6ea810326f70dac6f99db3627\"',\n",
       "   'server': 'AmazonS3',\n",
       "   'content-length': '0'},\n",
       "  'RetryAttempts': 0},\n",
       " 'ETag': '\"bc2149a6ea810326f70dac6f99db3627\"',\n",
       " 'ServerSideEncryption': 'AES256'}"
      ]
     },
     "execution_count": 7,
     "metadata": {},
     "output_type": "execute_result"
    }
   ],
   "source": [
    "\n",
    "# Upload the new CSV to the desired folder in the S3 bucket\n",
    "s3_client.put_object(Bucket=bucket_name, Key=output_file_key, Body=csv_buffer.getvalue())"
   ]
  }
 ],
 "metadata": {
  "kernelspec": {
   "display_name": "Python 3",
   "language": "python",
   "name": "python3"
  },
  "language_info": {
   "codemirror_mode": {
    "name": "ipython",
    "version": 3
   },
   "file_extension": ".py",
   "mimetype": "text/x-python",
   "name": "python",
   "nbconvert_exporter": "python",
   "pygments_lexer": "ipython3",
   "version": "3.11.3"
  }
 },
 "nbformat": 4,
 "nbformat_minor": 2
}
