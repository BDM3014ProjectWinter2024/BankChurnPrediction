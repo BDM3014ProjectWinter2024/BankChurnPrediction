{
 "cells": [
  {
   "cell_type": "code",
   "execution_count": null,
   "metadata": {},
   "outputs": [],
   "source": [
    "# Uncomment below if you want to run this file only\n",
    "#%run main.ipynb"
   ]
  },
  {
   "cell_type": "code",
   "execution_count": null,
   "metadata": {},
   "outputs": [],
   "source": [
    "# Uncomment below if you want to run this file only\n",
    "#%run data_cleaning.ipynb"
   ]
  },
  {
   "cell_type": "code",
   "execution_count": null,
   "metadata": {},
   "outputs": [],
   "source": [
    "# Read the CSV PROCESSED data source file from S3 into a DataFrame\n",
    "# Use the methods from the S3Utils class\n",
    "if s3_utils.check_file_exists(output_file_key_data_cleaning):\n",
    "    df = s3_utils.read_csv_from_s3(output_file_key_data_cleaning)"
   ]
  },
  {
   "cell_type": "markdown",
   "metadata": {},
   "source": [
    "## Explore and Analyze Data with Visualization"
   ]
  },
  {
   "cell_type": "markdown",
   "metadata": {},
   "source": [
    "### 7. Checking outliers"
   ]
  },
  {
   "cell_type": "markdown",
   "metadata": {},
   "source": [
    "> Let's use Interquartile Range (IQR) to see how the outliers are distributed in the dataset. This method focuses on the quartiles of the data distribution. Outliers fall outside the upper and lower bounds calculated using the IQR and a threshold multiplier (typically 1.5). IQR is less sensitive to extreme outliers compared to z-scores and works well for skewed data."
   ]
  },
  {
   "cell_type": "code",
   "execution_count": null,
   "metadata": {},
   "outputs": [],
   "source": [
    "df.describe()"
   ]
  },
  {
   "cell_type": "code",
   "execution_count": null,
   "metadata": {},
   "outputs": [],
   "source": [
    "# Function to identify outliers in each column\n",
    "\n",
    "def get_outliers(df):\n",
    "    outliers = {}\n",
    "    for col in df.columns:\n",
    "        if df[col].dtype in ['int64', 'float64']:\n",
    "            q1 = df[col].quantile(0.25)\n",
    "            q3 = df[col].quantile(0.75)\n",
    "            iqr = q3 - q1\n",
    "            lower_bound = q1 - 1.5 * iqr\n",
    "            upper_bound = q3 + 1.5 * iqr\n",
    "            outliers[col] = df[(df[col] < lower_bound) | (df[col] > upper_bound)].shape[0]\n",
    "    return outliers\n",
    "\n",
    "outliers = get_outliers(df)"
   ]
  },
  {
   "cell_type": "code",
   "execution_count": null,
   "metadata": {},
   "outputs": [],
   "source": [
    "#create a dataframe with outliers columns name and count\n",
    "outliers_df = pd.DataFrame(outliers.items(), columns=['column_name', 'outliers_count'])\n",
    "outliers_df = outliers_df.sort_values(by='outliers_count', ascending=False)\n",
    "outliers_df.head(10)"
   ]
  },
  {
   "cell_type": "markdown",
   "metadata": {},
   "source": [
    "> Notice that there are several values identified as outliers. Let's dive into the column with the most outliers creating a boxplot.  \n",
    "This column is rest_avg_paym which corresponds to \"average salary account balance\"."
   ]
  },
  {
   "cell_type": "code",
   "execution_count": null,
   "metadata": {},
   "outputs": [],
   "source": [
    "# Boxplot of the column with the most outliers\n",
    "plt.boxplot(df['rest_avg_paym'])\n",
    "plt.title('Boxplot of rest_avg_paym')\n",
    "plt.show()"
   ]
  },
  {
   "cell_type": "markdown",
   "metadata": {},
   "source": [
    "> The boxplot confirm the previos outliers count. The question here is what is wrong with this values and what to do with them. \n",
    "\n",
    "**Potential Causes of Outliers:**\n",
    "\n",
    "* Errors in Data Entry: Typos or mistakes during data collection or entry could lead to unrealistic values in the account balance.\n",
    "* Extreme Cases: There might be a small number of clients with exceptionally high or low account balances compared to the majority.\n",
    "* Data Source Issues: Inconsistency or errors in the way the data was obtained could introduce outliers.\n",
    "* Inaccurate Feature Definition: The definition of \"average salary account balance\" itself might be unclear. Does it represent the average salary deposited each month, or the current balance?"
   ]
  },
  {
   "cell_type": "code",
   "execution_count": null,
   "metadata": {},
   "outputs": [],
   "source": [
    "df['rest_avg_paym'].describe()"
   ]
  },
  {
   "cell_type": "code",
   "execution_count": null,
   "metadata": {},
   "outputs": [],
   "source": [
    "# Boxplot of the column with the most outliers\n",
    "plt.boxplot(df['rest_dynamic_paym_3m'])\n",
    "plt.title('Boxplot of rest_dynamic_paym_3m')\n",
    "plt.show()"
   ]
  },
  {
   "cell_type": "code",
   "execution_count": null,
   "metadata": {},
   "outputs": [],
   "source": [
    "df['rest_dynamic_paym_3m'].describe()"
   ]
  },
  {
   "cell_type": "markdown",
   "metadata": {},
   "source": [
    "Visualizing missing values in the matrxi"
   ]
  },
  {
   "cell_type": "code",
   "execution_count": null,
   "metadata": {},
   "outputs": [],
   "source": [
    "import missingno as msno\n",
    "msno.matrix(df)"
   ]
  },
  {
   "cell_type": "code",
   "execution_count": null,
   "metadata": {},
   "outputs": [],
   "source": [
    "# Define more appealing colors for each category\n",
    "colors = ['#1f77b4', '#ff7f0e', '#2ca02c', '#d62728', '#9467bd', '#8c564b', '#e377c2', '#7f7f7f', '#bcbd22', '#17becf']\n",
    "\n",
    "# Calculate the counts of each category\n",
    "churn_counts = df['target'].value_counts()\n",
    "\n",
    "# Create a pie chart with hue\n",
    "plt.figure(figsize=(6, 6))\n",
    "plt.pie(churn_counts, labels=['Retained', 'Exited'], autopct='%1.1f%%', colors=colors)\n",
    "plt.title('Churn Distribution')\n",
    "# Equal aspect ratio ensures that pie is drawn as a circle\n",
    "plt.axis('equal')\n",
    "plt.show()"
   ]
  },
  {
   "cell_type": "markdown",
   "metadata": {},
   "source": [
    "The high percentage of retained customers indicates satisfaction with the company's products or services and effective customer retention strategies."
   ]
  },
  {
   "cell_type": "code",
   "execution_count": null,
   "metadata": {},
   "outputs": [],
   "source": [
    "df['age'].unique"
   ]
  },
  {
   "cell_type": "code",
   "execution_count": null,
   "metadata": {},
   "outputs": [],
   "source": [
    "# Convert age from months to years\n",
    "df['age'] /= 12\n",
    "# Display the DataFrame with the updated age in years\n",
    "print(df)"
   ]
  },
  {
   "cell_type": "code",
   "execution_count": null,
   "metadata": {},
   "outputs": [],
   "source": [
    "# Create a new column to represent whether the customer is retained or exited\n",
    "df['status'] = df['target'].map({0: 'Retained', 1: 'Exited'})\n",
    "\n",
    "# Create bar plot\n",
    "plt.figure(figsize=(12, 6))\n",
    "sns.countplot(x='age', hue='status', data=df)\n",
    "plt.title('Distribution of Retained and Exited Customers by Age')\n",
    "plt.xlabel('Age (years)')\n",
    "plt.ylabel('Count')\n",
    "plt.xticks(rotation=90)  # Rotate x-axis labels for better readability\n",
    "plt.legend(title='Status')  # Add legend for Retained and Exited\n",
    "plt.show()"
   ]
  },
  {
   "cell_type": "markdown",
   "metadata": {},
   "source": [
    ">The right-skewed distribution observed for both exited and retained customers indicates a higher proportion of individuals aged 20 to 55 years compared to other age groups in the dataset. Notably, within this age range, there is a higher likelihood of churn observed. Conversely, the higher proportion of older customers staying with the bank implies that they are more likely to remain, suggesting greater retention rates among older age groups.\n",
    "The observed trend may be influenced by various factors. One possible explanation is that individuals aged 60 years and above may be more inclined to stay with the bank due to factors such as reliance on pension benefits and a reduced likelihood of major life changes, such as career transitions or relocation, compared to other age groups. Additionally, the older demographic may prioritize stability and familiarity in their banking relationships, leading to a higher propensity to remain with the bank."
   ]
  },
  {
   "cell_type": "code",
   "execution_count": null,
   "metadata": {},
   "outputs": [],
   "source": [
    "# Create histogram\n",
    "plt.figure(figsize=(10, 6))\n",
    "plt.hist(df['age'], bins=20, color='skyblue', edgecolor='black')\n",
    "plt.title('Distribution of Age')\n",
    "plt.xlabel('Age (years)')\n",
    "plt.ylabel('Count')\n",
    "plt.grid(True)\n",
    "plt.show()"
   ]
  },
  {
   "cell_type": "code",
   "execution_count": null,
   "metadata": {},
   "outputs": [],
   "source": [
    "facet = sns.FacetGrid(df, hue=\"target\",aspect=3)\n",
    "facet.map(sns.kdeplot,\"age\",fill= True)\n",
    "facet.set(xlim=(0, df[\"age\"].max()))\n",
    "facet.add_legend()\n",
    "plt.show()"
   ]
  },
  {
   "cell_type": "markdown",
   "metadata": {},
   "source": [
    ">The above distribution shows that customers between 20 to 55 years are more likely to churn."
   ]
  },
  {
   "cell_type": "code",
   "execution_count": null,
   "metadata": {},
   "outputs": [],
   "source": [
    "facet = sns.FacetGrid(df, hue=\"target\",aspect=3)\n",
    "facet.map(sns.kdeplot,\"clnt_setup_tenor\",fill= True)\n",
    "facet.set(xlim=(0, df[\"clnt_setup_tenor\"].max()))\n",
    "facet.add_legend()\n",
    "plt.show()"
   ]
  },
  {
   "cell_type": "markdown",
   "metadata": {},
   "source": [
    ">The data suggests that customers are more inclined to churn within the initial months of their association with the bank."
   ]
  },
  {
   "cell_type": "code",
   "execution_count": null,
   "metadata": {},
   "outputs": [],
   "source": [
    "plt.figure(figsize=(10, 6))\n",
    "sns.scatterplot(x='age', y='clnt_setup_tenor', hue='target', data=df)\n",
    "plt.title('Relationship between age and client setup tenor')\n",
    "plt.xlabel('Age')\n",
    "plt.ylabel('Client Setup Tenor')\n",
    "plt.legend(title='Target')\n",
    "plt.show()\n"
   ]
  },
  {
   "cell_type": "code",
   "execution_count": null,
   "metadata": {},
   "outputs": [],
   "source": [
    "# Filter the DataFrame where target is 1\n",
    "df_target_1 = df[df['target'] == 1]\n",
    "\n",
    "# Create scatter plot for age and clnt_setup_tenor with color-coded target (target = 1)\n",
    "plt.figure(figsize=(10, 6))\n",
    "sns.scatterplot(x='age', y='clnt_setup_tenor', hue='target', data=df_target_1)\n",
    "plt.title('Age and Client Setup Tenor: Predicting Exits')\n",
    "plt.xlabel('Age')\n",
    "plt.ylabel('Client Setup Tenor')\n",
    "plt.legend(title='Target')\n",
    "plt.show()\n"
   ]
  },
  {
   "cell_type": "markdown",
   "metadata": {},
   "source": [
    ">Individuals aged between 20 to 55 years are inclined to discontinue their banking services within a span of 10 months.\n",
    "The graph provides valuable insights into our focus on the age group of 20 to 55 years. It illustrates that within this age range, there is a noticeable trend of customers exiting the bank, particularly within 1 to 3 months of setting up their accounts. Beyond the age of 55, we observe fluctuations in the departure pattern, indicating a potential shift in banking behaviors or priorities. This underscores the importance of targeting the 20 to 55 age group in our analysis as it appears to be a critical demographic segment with regards to churn behavior."
   ]
  },
  {
   "cell_type": "code",
   "execution_count": null,
   "metadata": {},
   "outputs": [],
   "source": [
    "# Create countplot\n",
    "plt.figure(figsize=(10, 6))\n",
    "sns.countplot(x='pack', hue='target', data=df)\n",
    "plt.title('Distribution of Pack by Target')\n",
    "plt.xlabel('Pack')\n",
    "plt.ylabel('Count')\n",
    "plt.xticks(rotation=45)  # Rotate x-axis labels for better readability\n",
    "plt.legend(title='Target')  # Add legend for Retained and Exited\n",
    "plt.show()"
   ]
  },
  {
   "cell_type": "code",
   "execution_count": null,
   "metadata": {},
   "outputs": [],
   "source": [
    "plt.figure(figsize=(12, 6))\n",
    "sns.pointplot(x='pack', y='clnt_setup_tenor', hue='target', data=df, errorbar=None)\n",
    "plt.title('Relationship between CLNT_SETUP_TENOR, Pack, and Target')\n",
    "plt.xlabel('Pack')\n",
    "plt.ylabel('Average Client Setup Tenor')\n",
    "plt.xticks(rotation=45)  \n",
    "plt.legend(title='Target')\n",
    "plt.show()"
   ]
  },
  {
   "cell_type": "markdown",
   "metadata": {},
   "source": [
    ">Customers opting for packs K01, O01, and 301 exhibit a higher likelihood of leaving the bank within a three-month period, thereby indicating a significant impact on the retention rate."
   ]
  },
  {
   "cell_type": "code",
   "execution_count": null,
   "metadata": {},
   "outputs": [],
   "source": [
    "# Create bar plot for turnover_paym with packs colored by target\n",
    "plt.figure(figsize=(10, 6))\n",
    "sns.barplot(x='pack', y='turnover_paym', hue='target', data=df, palette='Set1')\n",
    "plt.title('Average Turnover in Payment by Packs (Colored by Target)')\n",
    "plt.xlabel('Pack')\n",
    "plt.ylabel('Turnover in Payment')\n",
    "plt.xticks(rotation=45)  # Rotate x-axis labels for better readability\n",
    "plt.legend(title='Target')\n",
    "plt.show()"
   ]
  },
  {
   "cell_type": "code",
   "execution_count": null,
   "metadata": {},
   "outputs": [],
   "source": [
    "# Define the columns to visualize\n",
    "columns = ['rest_dynamic_save_3m', 'rest_dynamic_fdep_3m', 'rest_dynamic_cur_3m', \n",
    "           'rest_dynamic_paym_3m', 'rest_dynamic_il_3m', 'rest_dynamic_cc_3m']\n",
    "\n",
    "# Create subplots\n",
    "fig, axes = plt.subplots(nrows=2, ncols=3, figsize=(15, 10))\n",
    "\n",
    "# Flatten the axes for easier indexing\n",
    "axes = axes.flatten()\n",
    "\n",
    "# Plot each column against target using bar charts\n",
    "for i, column in enumerate(columns):\n",
    "    ax = axes[i]  # select the current subplot\n",
    "    sns.barplot(x='target', y=column, data=df, ax=ax)\n",
    "    ax.set_title(f'{column} vs Target')\n",
    "    ax.set_xlabel('Target')\n",
    "    ax.set_ylabel(column)\n",
    "\n",
    "plt.tight_layout()\n",
    "plt.show()"
   ]
  },
  {
   "cell_type": "code",
   "execution_count": null,
   "metadata": {},
   "outputs": [],
   "source": [
    "# Create a scatter plot for turnover_cc with age\n",
    "plt.figure(figsize=(10, 6))\n",
    "sns.scatterplot(x='age', y='turnover_cc', data=df)\n",
    "plt.title('Turnover of Credit Card with Age')\n",
    "plt.xlabel('Age')\n",
    "plt.ylabel('Turnover CC')\n",
    "plt.show()"
   ]
  },
  {
   "cell_type": "code",
   "execution_count": null,
   "metadata": {},
   "outputs": [],
   "source": [
    "# Create a scatter plot for turnover_cc with age, colored by target\n",
    "plt.figure(figsize=(10, 6))\n",
    "sns.scatterplot(x='age', y='turnover_cc', hue='target', data=df, palette='Set1')\n",
    "plt.title('Turnover CC vs Age (Colored by Target)')\n",
    "plt.xlabel('Age')\n",
    "plt.ylabel('Turnover CC')\n",
    "plt.legend(title='Target')\n",
    "plt.show()\n"
   ]
  },
  {
   "cell_type": "code",
   "execution_count": null,
   "metadata": {},
   "outputs": [],
   "source": [
    "# Filter the DataFrame where target is 1\n",
    "df_target_1 = df[df['target'] == 1]\n",
    "\n",
    "# Create a scatter plot for turnover_cc with age, colored by target (target = 1)\n",
    "plt.figure(figsize=(10, 6))\n",
    "sns.scatterplot(x='age', y='turnover_cc', data=df_target_1)\n",
    "plt.title('Turnover CC vs Age (Target = 1)')\n",
    "plt.xlabel('Age')\n",
    "plt.ylabel('Turnover CC')\n",
    "plt.show()"
   ]
  },
  {
   "cell_type": "markdown",
   "metadata": {},
   "source": [
    ">That's an insightful observation. It suggests that there is a correlation between lower turnover amounts and a higher likelihood of churning among customers."
   ]
  },
  {
   "cell_type": "code",
   "execution_count": null,
   "metadata": {},
   "outputs": [],
   "source": [
    "# Filter the DataFrame where target is 1 and turnover_cc is less than 400,000\n",
    "df_filtered = df[(df['target'] == 1) & (df['turnover_cc'] < 400000)]\n",
    "\n",
    "# Create a scatter plot for turnover_cc and client_setup_tenor, colored by target (target = 1)\n",
    "plt.figure(figsize=(10, 6))\n",
    "sns.scatterplot(x='clnt_setup_tenor', y='turnover_cc', data=df_filtered)\n",
    "plt.title('Turnover CC vs Client Setup Tenor (Target = 1)')\n",
    "plt.xlabel('Client Setup Tenor')\n",
    "plt.ylabel('Turnover CC')\n",
    "plt.show()"
   ]
  },
  {
   "cell_type": "code",
   "execution_count": null,
   "metadata": {},
   "outputs": [],
   "source": [
    "# Define the columns to visualize\n",
    "columns = ['cr_prod_cnt_il', 'cr_prod_cnt_vcu', 'cr_prod_cnt_tovr', 'cr_prod_cnt_pil']\n",
    "\n",
    "# Set up subplots\n",
    "fig, axes = plt.subplots(nrows=1, ncols=len(columns), figsize=(15, 5))\n",
    "\n",
    "# Plot each column in a separate subplot\n",
    "for i, column in enumerate(columns):\n",
    "    sns.countplot(x=column, hue='target', data=df, ax=axes[i])\n",
    "    axes[i].set_title(f'{column} vs Target')\n",
    "    axes[i].set_xlabel(column)\n",
    "    axes[i].set_ylabel('Count')\n",
    "\n",
    "plt.tight_layout()\n",
    "plt.show()"
   ]
  },
  {
   "cell_type": "code",
   "execution_count": null,
   "metadata": {},
   "outputs": [],
   "source": [
    "# Create age groups\n",
    "df['age_group'] = pd.cut(df['age'], bins=[20, 40, 60, 80,100], labels=['20-40', '40-60', '60-80', '80-100'])\n",
    "\n",
    "# Define the columns to visualize\n",
    "columns = ['cr_prod_cnt_il', 'cr_prod_cnt_vcu', 'cr_prod_cnt_tovr', 'cr_prod_cnt_pil']\n",
    "\n",
    "# Set up subplots\n",
    "fig, axes = plt.subplots(nrows=len(columns), ncols=1, figsize=(8, 12))\n",
    "\n",
    "# Plot each column with age group as hue\n",
    "for i, column in enumerate(columns):\n",
    "    sns.countplot(x=column, hue='age_group', data=df, ax=axes[i])\n",
    "    axes[i].set_title(f'{column} vs Age Group')\n",
    "    axes[i].set_xlabel(column)\n",
    "    axes[i].set_ylabel('Count')\n",
    "    axes[i].legend(title='Age Group')\n",
    "\n",
    "plt.tight_layout()\n",
    "plt.show()"
   ]
  },
  {
   "cell_type": "markdown",
   "metadata": {},
   "source": [
    "### End of Data Vizualization and Analysis\n",
    "#### send cleaned df to S3 "
   ]
  },
  {
   "cell_type": "code",
   "execution_count": null,
   "metadata": {},
   "outputs": [],
   "source": [
    "# This Write the analyzed data to S3\n",
    "s3_utils.write_csv_to_s3(output_file_key_data_visualization, df)\n",
    "print(f\"File '{output_file_key_data_visualization}' successfully written to bucket '{s3_utils.bucket_name}'.\")"
   ]
  }
 ],
 "metadata": {
  "kernelspec": {
   "display_name": "Python 3",
   "language": "python",
   "name": "python3"
  },
  "language_info": {
   "codemirror_mode": {
    "name": "ipython",
    "version": 3
   },
   "file_extension": ".py",
   "mimetype": "text/x-python",
   "name": "python",
   "nbconvert_exporter": "python",
   "pygments_lexer": "ipython3",
   "version": "3.11.3"
  }
 },
 "nbformat": 4,
 "nbformat_minor": 2
}
