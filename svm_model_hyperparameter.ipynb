{
 "cells": [
  {
   "cell_type": "code",
   "execution_count": 1,
   "metadata": {},
   "outputs": [],
   "source": [
    "# Uncomment below if you want to run this file only\n",
    "%run main.ipynb\n",
    "#%run data_cleaning.ipynb\n",
    "#%run data_visualization.ipynb\n",
    "#%run feature_engineering.ipynb"
   ]
  },
  {
   "cell_type": "code",
   "execution_count": 2,
   "metadata": {},
   "outputs": [],
   "source": [
    "# Read the CSV From FEATURE ENGINEERING data source file from S3 into a DataFrame\n",
    "# Use the methods from the S3Utils class\n",
    "if s3_utils.check_file_exists(output_file_key_data_feature_engineering):\n",
    "    data = s3_utils.read_csv_from_s3(output_file_key_data_feature_engineering)"
   ]
  },
  {
   "cell_type": "code",
   "execution_count": 3,
   "metadata": {},
   "outputs": [],
   "source": [
    "# Separate features and target\n",
    "X = data.drop('target', axis=1)  # Replace 'target' with the name of your target column\n",
    "y = data['target']\n",
    "\n",
    "# Split the data into training and test sets\n",
    "X_train, X_test, y_train, y_test = train_test_split(X, y, test_size=0.2, random_state=42)\n"
   ]
  },
  {
   "cell_type": "code",
   "execution_count": 4,
   "metadata": {},
   "outputs": [],
   "source": [
    "from sklearn.svm import LinearSVC\n",
    "from sklearn.impute import SimpleImputer\n",
    "from sklearn.preprocessing import StandardScaler\n",
    "from sklearn.decomposition import PCA\n",
    "from imblearn.over_sampling import SMOTE\n",
    "import pandas as pd\n",
    "import pickle\n",
    "from sklearn.model_selection import train_test_split\n",
    "\n",
    "# Assuming X_train, X_test, y_train, and y_test are predefined\n",
    "# ... \n",
    "\n",
    "# Preprocess the data\n",
    "# Setting up imputer and scaler\n",
    "imputer = SimpleImputer(strategy='mean')\n",
    "scaler = StandardScaler()\n",
    "\n",
    "# Impute missing values and scale the training data\n",
    "X_train_imputed = imputer.fit_transform(X_train)\n",
    "X_train_scaled = scaler.fit_transform(X_train_imputed)\n",
    "\n",
    "# Handle class imbalance\n",
    "smote = SMOTE(random_state=42, n_jobs=-1)\n",
    "X_train_res, y_train_res = smote.fit_resample(X_train_scaled, y_train)\n",
    "\n",
    "# Impute and scale the test data using the same transformer\n",
    "X_test_imputed = imputer.transform(X_test)\n",
    "X_test_scaled = scaler.transform(X_test_imputed)\n",
    "\n",
    "# Apply PCA to reduce dimensionality\n",
    "pca = PCA(n_components=0.95, random_state=42)  # Retain 95% of the variance\n",
    "X_train_pca = pca.fit_transform(X_train_res)\n",
    "X_test_pca = pca.transform(X_test_scaled)\n",
    "\n",
    "# Train the SVM model using LinearSVC\n",
    "model = LinearSVC(class_weight='balanced', dual=False, random_state=42)\n",
    "model.fit(X_train_pca, y_train_res)\n",
    "\n",
    "# Make predictions on the test set\n",
    "y_pred = model.predict(X_test_pca)\n",
    "\n",
    "# Save the predictions to a CSV file\n",
    "predictions_df = pd.DataFrame({'Actual': y_train_res, 'Predicted': y_pred})\n",
    "predictions_df.to_csv('svm_predictions.csv', index=False)\n",
    "\n",
    "# Save the trained model and preprocessing objects\n",
    "with open('model_pipeline.pkl', 'wb') as file:\n",
    "    pickle.dump({'model': model, 'imputer': imputer, 'scaler': scaler, 'pca': pca, 'smote': smote}, file)\n"
   ]
  },
  {
   "cell_type": "code",
   "execution_count": null,
   "metadata": {},
   "outputs": [],
   "source": [
    "# Evaluate the model\n",
    "print(confusion_matrix(y_test, predictions))\n",
    "print(classification_report(y_test, predictions))"
   ]
  },
  {
   "cell_type": "code",
   "execution_count": null,
   "metadata": {},
   "outputs": [],
   "source": [
    "\n",
    "param_grid = {\n",
    "    'C': [0.1, 1, 10],\n",
    "    'gamma': [1, 0.1, 0.01],\n",
    "    'kernel': ['rbf', 'linear']\n",
    "}\n",
    "\n",
    "grid_search = GridSearchCV(svm.SVC(class_weight='balanced'), param_grid, refit=True, verbose=2)\n",
    "grid_search.fit(X_train_res, y_train_res)\n",
    "\n",
    "# Evaluate the best model found by grid search\n",
    "best_model = grid_search.best_estimator_\n",
    "best_predictions = best_model.predict(X_test)\n",
    "print(classification_report(y_test, best_predictions))"
   ]
  },
  {
   "cell_type": "code",
   "execution_count": null,
   "metadata": {},
   "outputs": [],
   "source": [
    "best_parameters = grid_search.best_params_\n",
    "print(\"Best parameters:\", best_parameters)"
   ]
  },
  {
   "cell_type": "code",
   "execution_count": null,
   "metadata": {},
   "outputs": [],
   "source": [
    "\n",
    "# # Save the trained model and preprocessing objects\n",
    "# with open('model.pkl', 'wb') as file:\n",
    "#     pickle.dump({'model': model, 'imputer': imputer, 'scaler': scaler, 'pca': pca}, file)\n"
   ]
  },
  {
   "cell_type": "code",
   "execution_count": null,
   "metadata": {},
   "outputs": [],
   "source": [
    "# # Create a LIME explainer\n",
    "# explainer = lime.lime_tabular.LimeTabularExplainer(\n",
    "#     training_data=X_train_pca, \n",
    "#     feature_names=[f'Feature {i+1}' for i in range(X_train_pca.shape[1])], \n",
    "#     class_names=['Class 0', 'Class 1'],  # Adjust class names as needed\n",
    "#     mode='classification'\n",
    "# )\n",
    "\n",
    "# # Explain a prediction\n",
    "# idx = 0  # Index of the instance you want to explain\n",
    "# exp = explainer.explain_instance(X_test_pca[idx], model.predict_proba)\n",
    "# exp.show_in_notebook(show_table=True)\n"
   ]
  },
  {
   "cell_type": "code",
   "execution_count": null,
   "metadata": {},
   "outputs": [],
   "source": [
    "# # Create a SHAP explainer\n",
    "# explainer = shap.Explainer(model, X_train_pca)\n",
    "\n",
    "# # Compute SHAP values\n",
    "# shap_values = explainer(X_test_pca)\n",
    "\n",
    "# # Visualize the explanation for the first instance\n",
    "# shap.plots.waterfall(shap_values[0])\n"
   ]
  }
 ],
 "metadata": {
  "kernelspec": {
   "display_name": "Python 3",
   "language": "python",
   "name": "python3"
  },
  "language_info": {
   "codemirror_mode": {
    "name": "ipython",
    "version": 3
   },
   "file_extension": ".py",
   "mimetype": "text/x-python",
   "name": "python",
   "nbconvert_exporter": "python",
   "pygments_lexer": "ipython3",
   "version": "3.11.3"
  }
 },
 "nbformat": 4,
 "nbformat_minor": 2
}
