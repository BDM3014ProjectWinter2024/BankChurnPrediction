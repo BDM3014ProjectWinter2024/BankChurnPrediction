{
 "cells": [
  {
   "cell_type": "markdown",
   "metadata": {},
   "source": [
    "### Install Packages"
   ]
  },
  {
   "cell_type": "code",
   "execution_count": 1,
   "metadata": {},
   "outputs": [],
   "source": [
    "# !pip install pandas sagemaker boto3 botocore numpy matplotlib seaborn scikit-learn nbconvert\n",
    "# !pip install imbalanced-learn lime shap"
   ]
  },
  {
   "cell_type": "markdown",
   "metadata": {},
   "source": [
    "### Import Packages"
   ]
  },
  {
   "cell_type": "code",
   "execution_count": 2,
   "metadata": {},
   "outputs": [
    {
     "name": "stderr",
     "output_type": "stream",
     "text": [
      "d:\\Users\\presc\\AppData\\Local\\Programs\\Python\\Python311\\Lib\\site-packages\\tqdm\\auto.py:21: TqdmWarning: IProgress not found. Please update jupyter and ipywidgets. See https://ipywidgets.readthedocs.io/en/stable/user_install.html\n",
      "  from .autonotebook import tqdm as notebook_tqdm\n"
     ]
    }
   ],
   "source": [
    "\n",
    "# Import packages for S3 connection\n",
    "import pandas as pd\n",
    "import boto3\n",
    "import botocore\n",
    "from io import StringIO\n",
    "\n",
    "# Import packages for data manipulation\n",
    "import numpy as np\n",
    "import matplotlib.pyplot as plt\n",
    "\n",
    "# Import packages for data visualization\n",
    "import seaborn as sns\n",
    "\n",
    "\n",
    "# Import packages for featured engineering\n",
    "from sklearn.preprocessing import LabelEncoder\n",
    "\n",
    "# Import packages for data modeling\n",
    "from sklearn.model_selection import GridSearchCV, train_test_split\n",
    "from sklearn.metrics import roc_auc_score, roc_curve, auc\n",
    "from sklearn.metrics import accuracy_score, precision_score, recall_score,\\\n",
    "f1_score, confusion_matrix, ConfusionMatrixDisplay, RocCurveDisplay, PrecisionRecallDisplay\n",
    "\n",
    "from sklearn.decomposition import PCA\n",
    "\n",
    "\n",
    "import lime\n",
    "import lime.lime_tabular\n",
    "import shap\n",
    "\n",
    "\n",
    "from sklearn.ensemble import RandomForestClassifier\n",
    "from xgboost import XGBClassifier\n",
    "from xgboost import plot_importance\n",
    "\n",
    "#SVM\n",
    "import numpy as np\n",
    "from sklearn import svm\n",
    "from sklearn.model_selection import train_test_split\n",
    "from imblearn.over_sampling import SMOTE\n",
    "from sklearn.metrics import classification_report, confusion_matrix\n",
    "import matplotlib.pyplot as plt\n",
    "from sklearn.pipeline import Pipeline\n",
    "from sklearn.impute import SimpleImputer\n",
    "from sklearn.preprocessing import StandardScaler\n",
    "from imblearn.pipeline import Pipeline as ImbPipeline\n",
    "from sklearn.svm import SVC\n",
    "from sklearn.svm import LinearSVC\n",
    "\n",
    "\n",
    "# This lets us see all of the columns, preventing Juptyer from redacting them.\n",
    "pd.set_option('display.max_columns', None)\n",
    "\n",
    "# This module lets us save our models once we fit them.\n",
    "import pickle"
   ]
  },
  {
   "cell_type": "markdown",
   "metadata": {},
   "source": [
    "### Data Conection to S3"
   ]
  },
  {
   "cell_type": "code",
   "execution_count": 3,
   "metadata": {},
   "outputs": [],
   "source": [
    "# Import the S3Utils class from s3conn.ipynb\n",
    "%run s3conn.ipynb\n",
    "\n",
    "# Set the path to your AWS credentials file\n",
    "file_path = 'C:/churn/bucketcredentials.csv'\n",
    "\n",
    "# Create an instance of the S3Utils class\n",
    "s3_utils = S3Utils(file_path)\n",
    "\n",
    "# Define your parameters\n",
    "env = \"dev\" #  dev, test, staging, prod \n",
    "mainsource = \"SourceDataSet/bank_data_train.csv\"\n",
    "envraw = f'{env}/raw/bank_data_train.csv'\n",
    "\n",
    "# Always check the Raw SourceCode is it exists if that it will copy the file to raw on a specific environment\n",
    "# Send sourcefile to env/raw\n",
    "s3_utils.check_and_transfer_file(mainsource, envraw)\n",
    "\n"
   ]
  },
  {
   "cell_type": "code",
   "execution_count": 4,
   "metadata": {},
   "outputs": [],
   "source": [
    "# Read the raw data from the S3 bucket\n",
    "input_file_key_data_cleaning = f'{env}/raw/bank_data_train.csv'  #this filename is from Kaggle and for the purpose of identification we are going to use the same filename as our main raw datasources. subfolder are used for distinction of file\n",
    "\n",
    "# Output file key directory which is also servers as an input for other process\n",
    "output_file_key_data_cleaning = f'{env}/processed/bank_data_cleaned.csv'\n",
    "\n",
    "output_file_key_data_visualization = f'{env}/processed/bank_data_visualization.csv'\n",
    "\n",
    "output_file_key_data_feature_engineering= f'{env}/final/bank_data_feature_eng.csv'\n",
    "\n",
    "output_file_key_data_X_train = f'{env}/final/model_one/X_train.csv'\n",
    "output_file_key_data_X_test = f'{env}/final/model_one/X_test.csv'\n",
    "\n",
    "output_file_key_data_Y_train = f'{env}/final/model_one/Y_train.csv'\n",
    "output_file_key_data_Y_test = f'{env}/final/model_one/Y_test.csv'\n",
    "\n",
    "# output_file_key_data_model_one_train = f'{env}/final/model_one/bank_data_train.csv'\n",
    "# output_file_key_data_model_one_test = f'{env}/final/model_one/bank_data_test.csv'\n",
    "\n",
    "# output_file_key_data_model_two_train =   f'{env}/final/model_two/bank_data_train.csv'\n",
    "# output_file_key_data_model_two_test =   f'{env}/final/model_two/bank_data_test.csv'\n",
    "\n",
    "# output_file_key_data_model_three_train = f'{env}/final/model_c/bank_data_train.csv'\n",
    "# output_file_key_data_model_three_test = f'{env}/final/model_c/bank_data_test.csv'\n",
    "output_file_key_data_svm_model_pkl = f'{env}/final/model_c/model.pkl'\n",
    "output_file_key_data_svm_model_tar = f'{env}/final/model_c/model.tar.gz'\n"
   ]
  },
  {
   "cell_type": "markdown",
   "metadata": {},
   "source": [
    "### execute notebooks accdly"
   ]
  },
  {
   "cell_type": "code",
   "execution_count": 5,
   "metadata": {},
   "outputs": [],
   "source": [
    "# %run data_cleaning.ipynb\n",
    "# %run data_visualization.ipynb\n",
    "# %run feature_engineering.ipynb\n",
    "# %run random_forest.ipynb\n"
   ]
  }
 ],
 "metadata": {
  "kernelspec": {
   "display_name": "Python 3",
   "language": "python",
   "name": "python3"
  },
  "language_info": {
   "codemirror_mode": {
    "name": "ipython",
    "version": 3
   },
   "file_extension": ".py",
   "mimetype": "text/x-python",
   "name": "python",
   "nbconvert_exporter": "python",
   "pygments_lexer": "ipython3",
   "version": "3.11.3"
  }
 },
 "nbformat": 4,
 "nbformat_minor": 2
}
